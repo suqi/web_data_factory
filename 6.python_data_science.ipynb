{
 "cells": [
  {
   "cell_type": "markdown",
   "metadata": {},
   "source": [
    "# 介绍使用python做数据分析"
   ]
  },
  {
   "cell_type": "markdown",
   "metadata": {},
   "source": [
    "#### Pandas 数据分析库简介\n",
    "- 关键结构是DataFrame内存数据表，类似于SQL\n",
    "- DataFrame比SQL表的优势在于：\n",
    "    - 方便从外部API或文件转换\n",
    "    - 结构灵活，操作接口多\n",
    "    - 与NumPy，MatPlotlib深度整合\n",
    "    - 不仅支持二维，还支持多维"
   ]
  }
 ],
 "metadata": {
  "kernelspec": {
   "display_name": "Python 2",
   "language": "python",
   "name": "python2"
  },
  "language_info": {
   "codemirror_mode": {
    "name": "ipython",
    "version": 2
   },
   "file_extension": ".py",
   "mimetype": "text/x-python",
   "name": "python",
   "nbconvert_exporter": "python",
   "pygments_lexer": "ipython2",
   "version": "2.7.10"
  }
 },
 "nbformat": 4,
 "nbformat_minor": 0
}
