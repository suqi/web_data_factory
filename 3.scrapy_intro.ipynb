{
 "cells": [
  {
   "cell_type": "markdown",
   "metadata": {},
   "source": [
    "# 介绍scrapy"
   ]
  },
  {
   "cell_type": "markdown",
   "metadata": {},
   "source": [
    "#### 第一个简单的scrapy爬虫"
   ]
  },
  {
   "cell_type": "code",
   "execution_count": 1,
   "metadata": {
    "collapsed": true
   },
   "outputs": [],
   "source": [
    "import scrapy\n",
    "\n",
    "class StackOverflowSpider(scrapy.Spider):\n",
    "    name = 'stackoverflow'\n",
    "    start_urls = ['http://stackoverflow.com/questions?sort=votes']\n",
    "\n",
    "    def parse(self, response):\n",
    "        for href in response.css('.question-summary h3 a::attr(href)'):\n",
    "            full_url = response.urljoin(href.extract())\n",
    "            yield scrapy.Request(full_url, callback=self.parse_question)\n",
    "\n",
    "    def parse_question(self, response):\n",
    "        yield {\n",
    "            'title': response.css('h1 a::text').extract()[0],\n",
    "            'votes': response.css('.question .vote-count-post::text').extract()[0],\n",
    "            'body': response.css('.question .post-text').extract()[0],\n",
    "            'tags': response.css('.question .post-tag::text').extract(),\n",
    "            'link': response.url,\n",
    "        }\n"
   ]
  },
  {
   "cell_type": "markdown",
   "metadata": {
    "collapsed": false
   },
   "source": [
    "- 把上面这段代码放到一个文件，比如stackoverflow_spider.py  \n",
    "然后使用`runspider`命令运行这个爬虫\n",
    "```\n",
    "scrapy runspider stackoverflow_spider.py -o top-stackoverflow-questions.json\n",
    "```\n",
    "- 将会生成一个json文件，包含stackoverflow里投票最高的问题，  \n",
    "内容如下：  \n",
    "\n",
    "```\n",
    "[{\n",
    "    \"body\": \"... LONG HTML HERE ...\",\n",
    "    \"link\": \"http://stackoverflow.com/questions/11227809/why-is-processing-a-sorted-array-faster-than-an-unsorted-array\",\n",
    "    \"tags\": [\"java\", \"c++\", \"performance\", \"optimization\"],\n",
    "    \"title\": \"Why is processing a sorted array faster than an unsorted array?\",\n",
    "    \"votes\": \"9924\"\n",
    "},\n",
    "{\n",
    "    \"body\": \"... LONG HTML HERE ...\",\n",
    "    \"link\": \"http://stackoverflow.com/questions/1260748/how-do-i-remove-a-git-submodule\",\n",
    "    \"tags\": [\"git\", \"git-submodules\"],\n",
    "    \"title\": \"How do I remove a Git submodule?\",\n",
    "    \"votes\": \"1764\"\n",
    "},\n",
    "...]\n",
    "```"
   ]
  },
  {
   "cell_type": "markdown",
   "metadata": {},
   "source": [
    "####  >>>  那么刚才发生了什么事情？\n",
    "- 爬虫的基本结构\n",
    "- 异步处理方式"
   ]
  },
  {
   "cell_type": "code",
   "execution_count": null,
   "metadata": {
    "collapsed": false
   },
   "outputs": [],
   "source": [
    "scrapy.Spider?"
   ]
  },
  {
   "cell_type": "markdown",
   "metadata": {},
   "source": [
    "------\n",
    "### 现在我们开始一个scrapy项目\n",
    "#### 首先使用scrapy的命令行工具"
   ]
  },
  {
   "cell_type": "markdown",
   "metadata": {
    "collapsed": false
   },
   "source": [
    "$ scrapy\n",
    "Scrapy 1.0.4 - no active project\n",
    "\n",
    "Usage:\n",
    "  scrapy <command> [options] [args]\n",
    "\n",
    "Available commands:\n",
    "  bench         Run quick benchmark test\n",
    "  commands\n",
    "  fetch         Fetch a URL using the Scrapy downloader\n",
    "  runspider     Run a self-contained spider (without creating a project)\n",
    "  settings      Get settings values\n",
    "  shell         Interactive scraping console\n",
    "  startproject  Create new project\n",
    "  version       Print Scrapy version\n",
    "  view          Open URL in browser, as seen by Scrapy\n",
    "\n",
    "  [ more ]      More commands available when run from project directory\n",
    "\n",
    "Use \"scrapy <command> -h\" to see more info about a command"
   ]
  },
  {
   "cell_type": "markdown",
   "metadata": {},
   "source": [
    "#### 创建项目\n",
    "- 我们的演示项目：钻戒公司 (用来从互联网上萃取数据珍珠)\n",
    "startproject diamond_bank\n",
    "\n",
    "#### 管理项目\n",
    "cd diamond_bank  "
   ]
  },
  {
   "cell_type": "markdown",
   "metadata": {},
   "source": [
    "#### Global commands:\n",
    "```\n",
    "startproject    ==> 创建项目\n",
    "settings        ==> \n",
    "runspider       ==> 不需要创建项目，直接运行一个无依赖的spider\n",
    "shell           ==>\n",
    "fetch           ==>\n",
    "view            ==>\n",
    "version         ==>\n",
    "```\n",
    "\n",
    "#### Project-only commands:\n",
    "```\n",
    "crawl       ==>     使用一个spider开始爬行\n",
    "check       ==>     检查定义的合约\n",
    "list        ==>     列出所有spider\n",
    "edit        ==>     编辑一个spider\n",
    "parse       ==>     \n",
    "genspider   ==>\n",
    "bench       ==>\n",
    "```"
   ]
  },
  {
   "cell_type": "markdown",
   "metadata": {
    "collapsed": false
   },
   "source": [
    "### 使用scrapy shell\n",
    "$ scrapy shell http://baidu.com"
   ]
  },
  {
   "cell_type": "markdown",
   "metadata": {},
   "source": [
    "### 快速创建爬虫\n",
    "$ scrapy genspider mydomain mydomain.com"
   ]
  },
  {
   "cell_type": "code",
   "execution_count": null,
   "metadata": {
    "collapsed": true
   },
   "outputs": [],
   "source": [
    "$ scrapy crawl mydomain    (-o items.json)"
   ]
  },
  {
   "cell_type": "code",
   "execution_count": null,
   "metadata": {
    "collapsed": true
   },
   "outputs": [],
   "source": [
    "#### OK，框架搭起来了，下一步开始扩充各个细节，进入项目模式"
   ]
  },
  {
   "cell_type": "markdown",
   "metadata": {
    "collapsed": true
   },
   "source": [
    "## 其实，质量最高的一手信息就是官方文档\n",
    "http://doc.scrapy.org/en/latest/"
   ]
  },
  {
   "cell_type": "code",
   "execution_count": null,
   "metadata": {
    "collapsed": true
   },
   "outputs": [],
   "source": [
    "import requests\n",
    "from scrapy.http import TextResponse\n",
    "\n",
    "r = requests.get('http://stackoverflow.com/')\n",
    "response = TextResponse(r.url, body=r.text, encoding='utf-8')"
   ]
  }
 ],
 "metadata": {
  "kernelspec": {
   "display_name": "Python 2",
   "language": "python",
   "name": "python2"
  },
  "language_info": {
   "codemirror_mode": {
    "name": "ipython",
    "version": 2
   },
   "file_extension": ".py",
   "mimetype": "text/x-python",
   "name": "python",
   "nbconvert_exporter": "python",
   "pygments_lexer": "ipython2",
   "version": "2.7.10"
  }
 },
 "nbformat": 4,
 "nbformat_minor": 0
}
